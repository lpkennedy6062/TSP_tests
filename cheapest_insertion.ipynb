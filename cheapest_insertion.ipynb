cheapest_history: list[tuple[list[int], list[list[int]], int]] = []
from tsp.core.tsp import TSP
from tsp.core.solvers import pyramid_solve      # you can keep this import if you still need pyramid elsewhere
from tsp.experiment.batch_solver import solve_batch
from tsp.experiment.batch import save_problem_batch
import numpy.random as random
import matplotlib.pyplot as plt
import matplotlib.animation as animation
import numpy as np
import json

cities = TSP.generate_random(50, w=500, h=500)
save_problem_batch([cities], 'pyramid_test/problems')


def pyramid_solve_2_4(problem):
    return pyramid_solve(problem, k=3, s=2)
solve_batch('pyramid_test/problems', pyramid_solve_2_4, 'pyramid_test/pyr_solutions')

def load_tsp_coords(fp):
    with open(fp,'r') as f:
        return np.array(json.load(f)["cities"])

coords = load_tsp_coords("pyramid_test/problems/001.tsp")
num_cities = coords.shape[0]
print("Coords shape:", coords.shape)

tsp_problem = TSP.from_cities(coords, w=500, h=500)
centroids = [ np.array(pt, dtype=float) for pt in coords ]
nodes     = list(range(len(coords)))

def tour_length(tour: list[int]) -> float:
    idxs   = tour + [tour[0]]
    pts    = coords[idxs]
    deltas = pts[1:] - pts[:-1]
    return np.hypot(deltas[:,0], deltas[:,1]).sum()

history = []  
'''def _cheapest_insertion_recorded(
    centroids: list[np.ndarray],
    nodes: list[int],
    prev_centroid: np.ndarray|None,
    next_centroid: np.ndarray|None
) -> list[int]:

    tour = list(nodes)
    while True:

        cands: list[tuple[list[int], float]] = []
        for i in range(len(tour)+1):
            for city in nodes:
                if city in tour: 
                    continue
                candidate = tour[:i] + [city] + tour[i:]
                pts = []
                if prev_centroid is not None:
                    pts.append(prev_centroid)
                pts += [centroids[j] for j in candidate]
                if next_centroid is not None:
                    pts.append(next_centroid)
                else:
                    pts.append(pts[0])
                dist = 0.0
                for a,b in zip(pts, pts[1:]):
                    dist += np.linalg.norm(a - b)
                cands.append((candidate, dist))

        if not cands:
            break
        cands.sort(key=lambda x: x[1])
        candidate_tours = [cand for cand,_ in cands]
        best_idx = 0

        cheapest_history.append((tour.copy(), candidate_tours, best_idx))

        tour = candidate_tours[best_idx]
        if set(tour) == set(nodes):
            break

    return tour'''
def _cheapest_insertion_recorded(
    centroids: list[np.ndarray],
    nodes:     list[int],
    prev_centroid: np.ndarray|None,
    next_centroid: np.ndarray|None
) -> list[int]:
